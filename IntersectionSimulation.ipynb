{
 "cells": [
  {
   "cell_type": "code",
   "execution_count": 5,
   "id": "be51d4ff-8d9a-46be-84e1-9aa523f1d48d",
   "metadata": {},
   "outputs": [],
   "source": [
    "import simpy\n",
    "import random\n",
    "import numpy as np\n",
    "import heapq"
   ]
  },
  {
   "cell_type": "code",
   "execution_count": 6,
   "id": "9a94a4cf-1c90-41d3-a53c-b4f26817a08a",
   "metadata": {},
   "outputs": [],
   "source": [
    "# Define system parameters\n",
    "ARRIVAL_RATE = 10  # vehicles per minute (lambda)\n",
    "SERVICE_RATE = 15  # vehicles per minute (mu)\n",
    "NUM_LANES = 2  # Number of servers (traffic lanes)\n",
    "SIM_TIME = 120  # Simulation time in minutes\n",
    "GREEN_LIGHT_DURATION = 30  # Green light duration in seconds\n",
    "RED_LIGHT_DURATION = 30  # Red light duration in seconds"
   ]
  },
  {
   "cell_type": "code",
   "execution_count": 7,
   "id": "f6fce0fe",
   "metadata": {},
   "outputs": [],
   "source": [
    "class TrafficIntersection:\n",
    "    def __init__(self, env, num_lanes, service_rate):\n",
    "        self.env = env\n",
    "        self.lanes = simpy.Resource(env, num_lanes)\n",
    "        self.service_rate = service_rate\n",
    "        self.queue_length = []  # Explicit queue length tracking\n",
    "        self.queue = []  # Explicit queue storage\n",
    "    \n",
    "    def serve_vehicle(self):\n",
    "        service_time = random.expovariate(self.service_rate)\n",
    "        yield self.env.timeout(service_time)"
   ]
  },
  {
   "cell_type": "code",
   "execution_count": 8,
   "id": "fcd47fc4",
   "metadata": {},
   "outputs": [],
   "source": [
    "# Traffic signal controller\n",
    "def traffic_light_controller(env, intersection):\n",
    "    while True:\n",
    "        yield env.timeout(GREEN_LIGHT_DURATION)  # Green light period\n",
    "        print(f\"{env.now}: GREEN light - Vehicles moving\")\n",
    "        yield env.timeout(RED_LIGHT_DURATION)  # Red light period\n",
    "        print(f\"{env.now}: RED light - Vehicles stopping\")\n"
   ]
  },
  {
   "cell_type": "code",
   "execution_count": 9,
   "id": "b3668856",
   "metadata": {},
   "outputs": [],
   "source": [
    "# Vehicle arrival process\n",
    "def vehicle_generator(env, intersection, arrival_rate):\n",
    "    while True:\n",
    "        yield env.timeout(random.expovariate(arrival_rate))\n",
    "        env.process(vehicle_process(env, intersection))\n"
   ]
  },
  {
   "cell_type": "code",
   "execution_count": 10,
   "id": "ed74ff1a",
   "metadata": {},
   "outputs": [],
   "source": [
    "# Vehicle queuing process\n",
    "def vehicle_process(env, intersection):\n",
    "    arrival_time = env.now\n",
    "    intersection.queue.append(arrival_time)  # Track vehicle entering queue\n",
    "    with intersection.lanes.request() as request:\n",
    "        yield request\n",
    "        wait_time = env.now - arrival_time\n",
    "        intersection.queue_length.append(len(intersection.queue))  # Track queue length dynamically\n",
    "        intersection.queue.pop(0)  # Remove from queue once served\n",
    "        WAIT_TIMES.append(wait_time)\n",
    "        yield env.process(intersection.serve_vehicle())"
   ]
  },
  {
   "cell_type": "code",
   "execution_count": 11,
   "id": "fae8ef8a-2fe5-48e3-9528-f610a7534e44",
   "metadata": {},
   "outputs": [],
   "source": [
    "# Event Scheduler for defined events\n",
    "class EventScheduler:\n",
    "    def __init__(self, env):\n",
    "        self.env = env\n",
    "        self.event_queue = []  #Using a priority queue for events\n",
    "\n",
    "    # Scheduling the event\n",
    "    def schedule_event(self, time, event_type, details=None):\n",
    "        heapq.heappush(self.event_queue, (time, event_type, details))\n",
    "\n",
    "    def process_events(self):\n",
    "        while self.event_queue:\n",
    "            event_time, event_type, details = heapq.heappop(self.event_queue)\n",
    "            yield self.env.timeout(event_time - self.env.now)\n",
    "            print(f\"Time {self.env.now}: Event '{event_type}' occurred. Details: {details}\")"
   ]
  },
  {
   "cell_type": "code",
   "execution_count": 12,
   "id": "fbab2dd7",
   "metadata": {},
   "outputs": [],
   "source": [
    "# Initialize simulation environment\n",
    "env = simpy.Environment()\n",
    "scheduler = EventScheduler(env)\n",
    "intersection = TrafficIntersection(env, NUM_LANES, SERVICE_RATE)\n",
    "WAIT_TIMES = []"
   ]
  },
  {
   "cell_type": "code",
   "execution_count": 13,
   "id": "0530a30f-95cb-4a5e-88a7-e9dcbd90529f",
   "metadata": {},
   "outputs": [],
   "source": [
    "# Sample Events to Schedule\n",
    "scheduler.schedule_event(3, \"Traffic Light Change\", \"Green → Yellow\")\n",
    "scheduler.schedule_event(5, \"Car Arrival\", \"Lane A\")\n",
    "scheduler.schedule_event(7, \"Traffic Light Change\", \"Yellow → Red\")\n",
    "scheduler.schedule_event(10, \"Car Departure\", \"Lane A\")"
   ]
  },
  {
   "cell_type": "code",
   "execution_count": 14,
   "id": "ffa929eb",
   "metadata": {},
   "outputs": [
    {
     "name": "stdout",
     "output_type": "stream",
     "text": [
      "Time 3: Event 'Traffic Light Change' occurred. Details: Green → Yellow\n",
      "Time 5: Event 'Car Arrival' occurred. Details: Lane A\n",
      "Time 7: Event 'Traffic Light Change' occurred. Details: Yellow → Red\n",
      "Time 10: Event 'Car Departure' occurred. Details: Lane A\n",
      "30: GREEN light - Vehicles moving\n",
      "60: RED light - Vehicles stopping\n",
      "90: GREEN light - Vehicles moving\n"
     ]
    }
   ],
   "source": [
    "env.process(vehicle_generator(env, intersection, ARRIVAL_RATE))\n",
    "env.process(traffic_light_controller(env, intersection))\n",
    "env.process(scheduler.process_events())\n",
    "env.run(until=SIM_TIME)\n"
   ]
  },
  {
   "cell_type": "code",
   "execution_count": 15,
   "id": "f7a98d65",
   "metadata": {},
   "outputs": [],
   "source": [
    "# Performance Metrics\n",
    "avg_wait_time = np.mean(WAIT_TIMES)\n",
    "queue_length = len(WAIT_TIMES) / SIM_TIME  # Approximate queue length\n",
    "system_utilization = (ARRIVAL_RATE / (NUM_LANES * SERVICE_RATE))"
   ]
  },
  {
   "cell_type": "code",
   "execution_count": 16,
   "id": "a0d64613",
   "metadata": {},
   "outputs": [
    {
     "name": "stdout",
     "output_type": "stream",
     "text": [
      "Average Wait Time: 0.01 minutes\n",
      "Approximate Queue Length: 9.82 vehicles\n",
      "System Utilization: 0.33\n"
     ]
    }
   ],
   "source": [
    "print(f\"Average Wait Time: {avg_wait_time:.2f} minutes\")\n",
    "print(f\"Approximate Queue Length: {queue_length:.2f} vehicles\")\n",
    "print(f\"System Utilization: {system_utilization:.2f}\")"
   ]
  },
  {
   "cell_type": "code",
   "execution_count": null,
   "id": "de4840ad-bdf8-41a0-9cb6-4c04603f62e3",
   "metadata": {},
   "outputs": [],
   "source": []
  }
 ],
 "metadata": {
  "kernelspec": {
   "display_name": "Python 3 (ipykernel)",
   "language": "python",
   "name": "python3"
  },
  "language_info": {
   "codemirror_mode": {
    "name": "ipython",
    "version": 3
   },
   "file_extension": ".py",
   "mimetype": "text/x-python",
   "name": "python",
   "nbconvert_exporter": "python",
   "pygments_lexer": "ipython3",
   "version": "3.11.0"
  }
 },
 "nbformat": 4,
 "nbformat_minor": 5
}
