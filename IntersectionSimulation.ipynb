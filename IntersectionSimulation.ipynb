{
 "cells": [
  {
   "cell_type": "code",
   "execution_count": null,
   "id": "be51d4ff-8d9a-46be-84e1-9aa523f1d48d",
   "metadata": {},
   "outputs": [],
   "source": [
    "import simpy\n",
    "import random\n",
    "import numpy as np"
   ]
  },
  {
   "cell_type": "code",
   "execution_count": null,
   "id": "9a94a4cf-1c90-41d3-a53c-b4f26817a08a",
   "metadata": {},
   "outputs": [],
   "source": [
    "# Define system parameters\n",
    "ARRIVAL_RATE = 10  # vehicles per minute (lambda)\n",
    "SERVICE_RATE = 15  # vehicles per minute (mu)\n",
    "NUM_LANES = 2  # Number of servers (traffic lanes)\n",
    "SIM_TIME = 120  # Simulation time in minutes"
   ]
  },
  {
   "cell_type": "code",
   "execution_count": null,
   "id": "f6fce0fe",
   "metadata": {},
   "outputs": [],
   "source": [
    "class TrafficIntersection:\n",
    "    def __init__(self, env, num_lanes, service_rate):\n",
    "        self.env = env\n",
    "        self.lanes = simpy.Resource(env, num_lanes)\n",
    "        self.service_rate = service_rate\n",
    "    \n",
    "    def serve_vehicle(self):\n",
    "        service_time = random.expovariate(self.service_rate)\n",
    "        yield self.env.timeout(service_time)"
   ]
  },
  {
   "cell_type": "code",
   "execution_count": null,
   "id": "b3668856",
   "metadata": {},
   "outputs": [],
   "source": [
    "# Vehicle arrival process\n",
    "def vehicle_generator(env, intersection, arrival_rate):\n",
    "    while True:\n",
    "        yield env.timeout(random.expovariate(arrival_rate))\n",
    "        env.process(vehicle_process(env, intersection))"
   ]
  },
  {
   "cell_type": "code",
   "execution_count": null,
   "id": "ed74ff1a",
   "metadata": {},
   "outputs": [],
   "source": [
    "# Vehicle queuing process\n",
    "def vehicle_process(env, intersection):\n",
    "    arrival_time = env.now\n",
    "    with intersection.lanes.request() as request:\n",
    "        yield request\n",
    "        wait_time = env.now - arrival_time\n",
    "        WAIT_TIMES.append(wait_time)\n",
    "        yield env.process(intersection.serve_vehicle())"
   ]
  },
  {
   "cell_type": "code",
   "execution_count": null,
   "id": "fbab2dd7",
   "metadata": {},
   "outputs": [],
   "source": [
    "# Initialize simulation environment\n",
    "env = simpy.Environment()\n",
    "intersection = TrafficIntersection(env, NUM_LANES, SERVICE_RATE)\n",
    "WAIT_TIMES = []"
   ]
  },
  {
   "cell_type": "code",
   "execution_count": null,
   "id": "ffa929eb",
   "metadata": {},
   "outputs": [],
   "source": [
    "env.process(vehicle_generator(env, intersection, ARRIVAL_RATE))\n",
    "env.run(until=SIM_TIME)"
   ]
  },
  {
   "cell_type": "code",
   "execution_count": null,
   "id": "f7a98d65",
   "metadata": {},
   "outputs": [],
   "source": [
    "# Performance Metrics\n",
    "avg_wait_time = np.mean(WAIT_TIMES)\n",
    "queue_length = len(WAIT_TIMES) / SIM_TIME  # Approximate queue length\n",
    "system_utilization = (ARRIVAL_RATE / (NUM_LANES * SERVICE_RATE))"
   ]
  },
  {
   "cell_type": "code",
   "execution_count": null,
   "id": "a0d64613",
   "metadata": {},
   "outputs": [],
   "source": [
    "print(f\"Average Wait Time: {avg_wait_time:.2f} minutes\")\n",
    "print(f\"Approximate Queue Length: {queue_length:.2f} vehicles\")\n",
    "print(f\"System Utilization: {system_utilization:.2f}\")"
   ]
  }
 ],
 "metadata": {
  "kernelspec": {
   "display_name": "Python 3 (ipykernel)",
   "language": "python",
   "name": "python3"
  },
  "language_info": {
   "codemirror_mode": {
    "name": "ipython",
    "version": 3
   },
   "file_extension": ".py",
   "mimetype": "text/x-python",
   "name": "python",
   "nbconvert_exporter": "python",
   "pygments_lexer": "ipython3",
   "version": "3.11.0"
  }
 },
 "nbformat": 4,
 "nbformat_minor": 5
}
